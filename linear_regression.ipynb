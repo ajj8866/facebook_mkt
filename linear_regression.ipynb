{
 "cells": [
  {
   "cell_type": "code",
   "execution_count": 47,
   "metadata": {},
   "outputs": [],
   "source": [
    "from clean_tabular import CleanData\n",
    "import pandas as pd\n",
    "import numpy as np\n",
    "import matplotlib.pyplot as plt\n",
    "from matplotlib.gridspec import GridSpec\n",
    "from sklearn.preprocessing import StandardScaler\n",
    "from sklearn.linear_model import LinearRegression\n",
    "import seaborn as sns\n",
    "from sklearn.model_selection import train_test_split\n",
    "from sklearn.metrics import mean_absolute_error, mean_squared_error\n",
    "\n",
    "pd.set_option('display.max_columns', 30)\n",
    "pd.set_option('display.max_rows', 50)"
   ]
  },
  {
   "cell_type": "code",
   "execution_count": 48,
   "metadata": {},
   "outputs": [
    {
     "name": "stdout",
     "output_type": "stream",
     "text": [
      "                                     id  \\\n",
      "0  ac2140ae-f0d5-4fe7-ac08-df0f109fd734   \n",
      "1  243809c0-9cfc-4486-ad12-3b7a16605ba9   \n",
      "2  1c58d3f9-8b93-47ea-9415-204fcc2a22e6   \n",
      "3  860673f1-57f6-47ba-8d2f-13f9e05b8f9a   \n",
      "4  59948726-29be-4b35-ade5-bb2fd7331856   \n",
      "\n",
      "                                        product_name  \\\n",
      "0  Second-Hand Sofas, Couches & Armchairs for Sal...   \n",
      "1  Mirror wall art | in Wokingham, Berkshire | Gu...   \n",
      "2  Stainless Steel Food Steamer | in Inverness, H...   \n",
      "3  Sun loungers | in Skegness, Lincolnshire | Gum...   \n",
      "4  Coffee side table from Ammunition ammo box hai...   \n",
      "\n",
      "                                            category  \\\n",
      "0                                                N/A   \n",
      "1  Home & Garden / Dining, Living Room Furniture ...   \n",
      "2              Home & Garden / Other Household Goods   \n",
      "3  Home & Garden / Garden & Patio / Outdoor Setti...   \n",
      "4  Home & Garden / Dining, Living Room Furniture ...   \n",
      "\n",
      "                                 product_description    price  \\\n",
      "0                                                N/A      NaN   \n",
      "1  Mirror wall art. Posted by Nisha in Dining, Li...    £5.00   \n",
      "2  Morphy Richard’s (model no 48755)Stainless ste...   £20.00   \n",
      "3  I have 2 of these - collection only as I don’t...   £20.00   \n",
      "4  Great reclaimed army ammunition box used as co...  £115.00   \n",
      "\n",
      "                 location     page_id create_time  \n",
      "0                     N/A  1426592234  2022-02-26  \n",
      "1    Wokingham, Berkshire  1426704584  2022-02-26  \n",
      "2     Inverness, Highland  1426704579  2022-02-26  \n",
      "3  Skegness, Lincolnshire  1426704576  2022-02-26  \n",
      "4      Radstock, Somerset  1426704575  2022-02-26  \n",
      "                                     id  \\\n",
      "0  ac2140ae-f0d5-4fe7-ac08-df0f109fd734   \n",
      "1  243809c0-9cfc-4486-ad12-3b7a16605ba9   \n",
      "2  1c58d3f9-8b93-47ea-9415-204fcc2a22e6   \n",
      "3  860673f1-57f6-47ba-8d2f-13f9e05b8f9a   \n",
      "4  59948726-29be-4b35-ade5-bb2fd7331856   \n",
      "\n",
      "                                        product_name  \\\n",
      "0  Second-Hand Sofas, Couches & Armchairs for Sal...   \n",
      "1  Mirror wall art | in Wokingham, Berkshire | Gu...   \n",
      "2  Stainless Steel Food Steamer | in Inverness, H...   \n",
      "3  Sun loungers | in Skegness, Lincolnshire | Gum...   \n",
      "4  Coffee side table from Ammunition ammo box hai...   \n",
      "\n",
      "                                            category  \\\n",
      "0                                                N/A   \n",
      "1  Home & Garden / Dining, Living Room Furniture ...   \n",
      "2              Home & Garden / Other Household Goods   \n",
      "3  Home & Garden / Garden & Patio / Outdoor Setti...   \n",
      "4  Home & Garden / Dining, Living Room Furniture ...   \n",
      "\n",
      "                                 product_description    price  \\\n",
      "0                                                N/A      NaN   \n",
      "1  Mirror wall art. Posted by Nisha in Dining, Li...    £5.00   \n",
      "2  Morphy Richard’s (model no 48755)Stainless ste...   £20.00   \n",
      "3  I have 2 of these - collection only as I don’t...   £20.00   \n",
      "4  Great reclaimed army ammunition box used as co...  £115.00   \n",
      "\n",
      "                 location     page_id create_time  \n",
      "0                     N/A  1426592234  2022-02-26  \n",
      "1    Wokingham, Berkshire  1426704584  2022-02-26  \n",
      "2     Inverness, Highland  1426704579  2022-02-26  \n",
      "3  Skegness, Lincolnshire  1426704576  2022-02-26  \n",
      "4      Radstock, Somerset  1426704575  2022-02-26  \n",
      "                                     id  \\\n",
      "1  243809c0-9cfc-4486-ad12-3b7a16605ba9   \n",
      "2  1c58d3f9-8b93-47ea-9415-204fcc2a22e6   \n",
      "3  860673f1-57f6-47ba-8d2f-13f9e05b8f9a   \n",
      "4  59948726-29be-4b35-ade5-bb2fd7331856   \n",
      "5  16dbc860-696e-4cda-93f6-4dd4926573fb   \n",
      "\n",
      "                                        product_name  \\\n",
      "1  Mirror wall art | in Wokingham, Berkshire | Gu...   \n",
      "2  Stainless Steel Food Steamer | in Inverness, H...   \n",
      "3  Sun loungers | in Skegness, Lincolnshire | Gum...   \n",
      "4  Coffee side table from Ammunition ammo box hai...   \n",
      "5  Modern Shannon Sofa for sale at low cost | in ...   \n",
      "\n",
      "                                            category  \\\n",
      "1  Home & Garden / Dining, Living Room Furniture ...   \n",
      "2              Home & Garden / Other Household Goods   \n",
      "3  Home & Garden / Garden & Patio / Outdoor Setti...   \n",
      "4  Home & Garden / Dining, Living Room Furniture ...   \n",
      "5  Home & Garden / Dining, Living Room Furniture ...   \n",
      "\n",
      "                                 product_description  price  \\\n",
      "1  Mirror wall art. Posted by Nisha in Dining, Li...    5.0   \n",
      "2  Morphy Richard’s (model no 48755)Stainless ste...   20.0   \n",
      "3  I have 2 of these - collection only as I don’t...   20.0   \n",
      "4  Great reclaimed army ammunition box used as co...  115.0   \n",
      "5  New Design Shannon Corner sofa  5 Seater Avail...  450.0   \n",
      "\n",
      "                 location     page_id          create_time  \n",
      "1    Wokingham, Berkshire  1426704584  2022-02-26 00:00:00  \n",
      "2     Inverness, Highland  1426704579  2022-02-26 00:00:00  \n",
      "3  Skegness, Lincolnshire  1426704576  2022-02-26 00:00:00  \n",
      "4      Radstock, Somerset  1426704575  2022-02-26 00:00:00  \n",
      "5       Delph, Manchester  1426704570  2022-02-26 00:00:00  \n"
     ]
    }
   ],
   "source": [
    "tab_class = CleanData.allTables()\n",
    "explanatory = 'major_category'\n",
    "tab_class.try_merge(df_list=['products', 'products_2'])\n",
    "df_comb = tab_class.expand_category(df='combined')\n",
    "df_comb['price'] = df_comb['price'].astype(np.float32)\n",
    "df_comb = df_comb[df_comb['price'].astype(int) != 0]\n",
    "df_comb = df_comb.loc[:, ['price', explanatory]]\n",
    "df_comb = pd.get_dummies(df_comb, drop_first=True, prefix=None)\n",
    "df_comb.columns = df_comb.columns.str.removeprefix(f'{explanatory}_')\n"
   ]
  },
  {
   "cell_type": "code",
   "execution_count": 49,
   "metadata": {},
   "outputs": [
    {
     "data": {
      "text/plain": [
       "price                                0\n",
       "Baby & Kids Stuff                    0\n",
       "Clothes, Footwear & Accessories      0\n",
       "Computers & Software                 0\n",
       "DIY Tools & Materials                0\n",
       "Health & Beauty                      0\n",
       "Home & Garden                        0\n",
       "Music, Films, Books & Games          0\n",
       "Office Furniture & Equipment         0\n",
       "Other Goods                          0\n",
       "Phones, Mobile Phones & Telecoms     0\n",
       "Sports, Leisure & Travel             0\n",
       "Video Games & Consoles               0\n",
       "dtype: int64"
      ]
     },
     "execution_count": 49,
     "metadata": {},
     "output_type": "execute_result"
    }
   ],
   "source": [
    "df_comb[df_comb['price'] == 0].count()"
   ]
  },
  {
   "cell_type": "code",
   "execution_count": 50,
   "metadata": {},
   "outputs": [
    {
     "name": "stdout",
     "output_type": "stream",
     "text": [
      "R-Squared of Regression model:  0.9237442081514224\n",
      "Mean Squared Error of Training Sample:  212.65039699814665\n",
      "Mean Absolute Error of Training Sample:  0.6976285539807693\n",
      "Mean Squared Error of Training Sample:  53.82577581669736\n",
      "Mean Absolute Error of Training Sample:  0.5862685222266409\n"
     ]
    }
   ],
   "source": [
    "df_comb.head()\n",
    "model = LinearRegression()\n",
    "X = df_comb.drop(['price'], axis=1)\n",
    "y = df_comb['price']\n",
    "y = df_comb.applymap(np.sqrt)\n",
    "X_train, X_test, y_train, y_test = train_test_split(X, y, test_size=0.3)\n",
    "model.fit(X_train, y_train)\n",
    "\n",
    "print('R-Squared of Regression model: ', model.score(X_train, y_train))\n",
    "print('Mean Squared Error of Training Sample: ', mean_squared_error(y_train, model.predict(X_train)))\n",
    "print('Mean Absolute Error of Training Sample: ', mean_absolute_error(y_train, model.predict(X_train)))\n",
    "print('Mean Squared Error of Training Sample: ', mean_squared_error(y_test, model.predict(X_test)))\n",
    "print('Mean Absolute Error of Training Sample: ', mean_absolute_error(y_test, model.predict(X_test)))"
   ]
  },
  {
   "cell_type": "code",
   "execution_count": 51,
   "metadata": {},
   "outputs": [
    {
     "name": "stdout",
     "output_type": "stream",
     "text": [
      "[[-6.48473563e+00 -2.07125492e+00  6.44429649e+00 -5.07911713e-01\n",
      "  -3.81763668e-01 -1.90098728e+00 -7.28880611e+00  7.87621317e+00\n",
      "  -2.39704552e+00  1.40736954e+00  1.02726244e+01 -1.65672379e+00]\n",
      " [ 1.00000000e+00 -2.04916499e-16 -6.88244916e-17 -1.01753985e-16\n",
      "   4.25639590e-17 -1.68903667e-16 -7.13260415e-17 -3.54179406e-17\n",
      "  -8.15178973e-17 -9.07392576e-17 -4.91799034e-17 -9.21155535e-17]\n",
      " [-1.41036682e-16  1.00000000e+00  1.66533454e-16 -5.55111512e-17\n",
      "  -1.66533454e-16 -3.88578059e-16  3.88578059e-16  1.66533454e-16\n",
      "   1.11022302e-16 -4.71844785e-16 -3.05311332e-16  5.55111512e-17]\n",
      " [ 6.24065833e-16  9.43689571e-16  1.00000000e+00  2.77555756e-16\n",
      "  -1.26287869e-15 -4.02455846e-16  2.91433544e-16  4.44089210e-16\n",
      "   5.82867088e-16  3.74700271e-16  3.60822483e-16  2.35922393e-16]\n",
      " [ 3.23585467e-16  6.10622664e-16  3.88578059e-16  1.00000000e+00\n",
      "   1.80411242e-16 -6.93889390e-17 -2.77555756e-17  3.33066907e-16\n",
      "  -4.92661467e-16 -2.08166817e-17 -2.56739074e-16 -1.24900090e-16]\n",
      " [ 4.08175223e-16  4.99600361e-16 -3.74700271e-16  7.49400542e-16\n",
      "   1.00000000e+00  1.24900090e-16  3.19189120e-16  4.99600361e-16\n",
      "   5.55111512e-17  9.71445147e-17  2.91433544e-16 -4.16333634e-17]\n",
      " [ 4.32104040e-16 -2.22044605e-16  6.52256027e-16  1.52655666e-16\n",
      "   6.24500451e-16  1.00000000e+00 -1.80411242e-16 -1.38777878e-16\n",
      "  -3.88578059e-16 -5.27355937e-16 -3.05311332e-16 -5.55111512e-17]\n",
      " [ 2.57455133e-16  1.66533454e-16  1.94289029e-16  2.63677968e-16\n",
      "   4.30211422e-16 -8.32667268e-17  1.00000000e+00 -6.93889390e-16\n",
      "   2.77555756e-17  3.19189120e-16 -5.55111512e-17  4.16333634e-16]\n",
      " [ 1.09882758e-15  7.77156117e-16  1.31838984e-15  1.06858966e-15\n",
      "   1.49880108e-15  1.19348975e-15  5.96744876e-16  1.00000000e+00\n",
      "   6.93889390e-17  2.08166817e-16  3.46944695e-16  0.00000000e+00]\n",
      " [ 1.62640773e-16  1.66533454e-16  2.08166817e-16 -3.12250226e-16\n",
      "   0.00000000e+00  2.91433544e-16  4.57966998e-16 -2.77555756e-17\n",
      "   1.00000000e+00 -2.77555756e-16  3.95516953e-16 -4.09394740e-16]\n",
      " [ 8.49474299e-17  1.94289029e-16  2.22044605e-16  3.74700271e-16\n",
      "  -4.16333634e-17  1.38777878e-16  1.47798440e-15  3.74700271e-16\n",
      "  -1.38777878e-17  1.00000000e+00  4.71844785e-16  3.26128013e-16]\n",
      " [ 8.09862811e-16  3.88578059e-16  4.16333634e-17  3.81639165e-16\n",
      "   7.91033905e-16 -4.57966998e-16 -3.19189120e-16  7.91033905e-16\n",
      "   3.05311332e-16  1.66533454e-16  1.00000000e+00 -2.22044605e-16]\n",
      " [-1.49331860e-16  2.77555756e-16 -3.05311332e-16 -1.24900090e-16\n",
      "   8.32667268e-17  2.08166817e-16 -3.74700271e-16 -4.44089210e-16\n",
      "  -2.77555756e-16 -2.77555756e-16 -7.14706072e-16  1.00000000e+00]]\n",
      "['Baby & Kids Stuff ' 'Clothes, Footwear & Accessories '\n",
      " 'Computers & Software ' 'DIY Tools & Materials ' 'Health & Beauty '\n",
      " 'Home & Garden ' 'Music, Films, Books & Games '\n",
      " 'Office Furniture & Equipment ' 'Other Goods '\n",
      " 'Phones, Mobile Phones & Telecoms ' 'Sports, Leisure & Travel '\n",
      " 'Video Games & Consoles ']\n"
     ]
    }
   ],
   "source": [
    "print(model.coef_)\n",
    "print(model.feature_names_in_)"
   ]
  },
  {
   "cell_type": "code",
   "execution_count": null,
   "metadata": {},
   "outputs": [],
   "source": []
  }
 ],
 "metadata": {
  "interpreter": {
   "hash": "0ca6e4f64349b37e43d103d34f8b7f64a464de9243649aae08dfeb58b2445472"
  },
  "kernelspec": {
   "display_name": "Python 3.9.7 ('scaper_env')",
   "language": "python",
   "name": "python3"
  },
  "language_info": {
   "codemirror_mode": {
    "name": "ipython",
    "version": 3
   },
   "file_extension": ".py",
   "mimetype": "text/x-python",
   "name": "python",
   "nbconvert_exporter": "python",
   "pygments_lexer": "ipython3",
   "version": "3.9.7"
  },
  "orig_nbformat": 4
 },
 "nbformat": 4,
 "nbformat_minor": 2
}
