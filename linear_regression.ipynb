{
 "cells": [
  {
   "cell_type": "code",
   "execution_count": 1,
   "metadata": {},
   "outputs": [],
   "source": [
    "from clean_tabular import CleanData\n",
    "import pandas as pd\n",
    "import numpy as np\n",
    "import matplotlib.pyplot as plt\n",
    "from matplotlib.gridspec import GridSpec\n",
    "from sklearn.preprocessing import StandardScaler\n",
    "from sklearn.linear_model import LinearRegression\n",
    "import seaborn as sns\n",
    "from sklearn.model_selection import train_test_split\n",
    "from sklearn.metrics import mean_absolute_error, mean_squared_error\n",
    "\n",
    "pd.set_option('display.max_columns', 30)\n",
    "pd.set_option('display.max_rows', 50)"
   ]
  },
  {
   "cell_type": "code",
   "execution_count": 2,
   "metadata": {},
   "outputs": [
    {
     "name": "stdout",
     "output_type": "stream",
     "text": [
      "                                     id  \\\n",
      "0  ac2140ae-f0d5-4fe7-ac08-df0f109fd734   \n",
      "1  243809c0-9cfc-4486-ad12-3b7a16605ba9   \n",
      "2  1c58d3f9-8b93-47ea-9415-204fcc2a22e6   \n",
      "3  860673f1-57f6-47ba-8d2f-13f9e05b8f9a   \n",
      "4  59948726-29be-4b35-ade5-bb2fd7331856   \n",
      "\n",
      "                                        product_name  \\\n",
      "0  Second-Hand Sofas, Couches & Armchairs for Sal...   \n",
      "1  Mirror wall art | in Wokingham, Berkshire | Gu...   \n",
      "2  Stainless Steel Food Steamer | in Inverness, H...   \n",
      "3  Sun loungers | in Skegness, Lincolnshire | Gum...   \n",
      "4  Coffee side table from Ammunition ammo box hai...   \n",
      "\n",
      "                                            category  \\\n",
      "0                                                N/A   \n",
      "1  Home & Garden / Dining, Living Room Furniture ...   \n",
      "2              Home & Garden / Other Household Goods   \n",
      "3  Home & Garden / Garden & Patio / Outdoor Setti...   \n",
      "4  Home & Garden / Dining, Living Room Furniture ...   \n",
      "\n",
      "                                 product_description    price  \\\n",
      "0                                                N/A      NaN   \n",
      "1  Mirror wall art. Posted by Nisha in Dining, Li...    £5.00   \n",
      "2  Morphy Richard’s (model no 48755)Stainless ste...   £20.00   \n",
      "3  I have 2 of these - collection only as I don’t...   £20.00   \n",
      "4  Great reclaimed army ammunition box used as co...  £115.00   \n",
      "\n",
      "                 location     page_id create_time  \n",
      "0                     N/A  1426592234  2022-02-26  \n",
      "1    Wokingham, Berkshire  1426704584  2022-02-26  \n",
      "2     Inverness, Highland  1426704579  2022-02-26  \n",
      "3  Skegness, Lincolnshire  1426704576  2022-02-26  \n",
      "4      Radstock, Somerset  1426704575  2022-02-26  \n",
      "                                     id  \\\n",
      "0  ac2140ae-f0d5-4fe7-ac08-df0f109fd734   \n",
      "1  243809c0-9cfc-4486-ad12-3b7a16605ba9   \n",
      "2  1c58d3f9-8b93-47ea-9415-204fcc2a22e6   \n",
      "3  860673f1-57f6-47ba-8d2f-13f9e05b8f9a   \n",
      "4  59948726-29be-4b35-ade5-bb2fd7331856   \n",
      "\n",
      "                                        product_name  \\\n",
      "0  Second-Hand Sofas, Couches & Armchairs for Sal...   \n",
      "1  Mirror wall art | in Wokingham, Berkshire | Gu...   \n",
      "2  Stainless Steel Food Steamer | in Inverness, H...   \n",
      "3  Sun loungers | in Skegness, Lincolnshire | Gum...   \n",
      "4  Coffee side table from Ammunition ammo box hai...   \n",
      "\n",
      "                                            category  \\\n",
      "0                                                N/A   \n",
      "1  Home & Garden / Dining, Living Room Furniture ...   \n",
      "2              Home & Garden / Other Household Goods   \n",
      "3  Home & Garden / Garden & Patio / Outdoor Setti...   \n",
      "4  Home & Garden / Dining, Living Room Furniture ...   \n",
      "\n",
      "                                 product_description    price  \\\n",
      "0                                                N/A      NaN   \n",
      "1  Mirror wall art. Posted by Nisha in Dining, Li...    £5.00   \n",
      "2  Morphy Richard’s (model no 48755)Stainless ste...   £20.00   \n",
      "3  I have 2 of these - collection only as I don’t...   £20.00   \n",
      "4  Great reclaimed army ammunition box used as co...  £115.00   \n",
      "\n",
      "                 location     page_id create_time  \n",
      "0                     N/A  1426592234  2022-02-26  \n",
      "1    Wokingham, Berkshire  1426704584  2022-02-26  \n",
      "2     Inverness, Highland  1426704579  2022-02-26  \n",
      "3  Skegness, Lincolnshire  1426704576  2022-02-26  \n",
      "4      Radstock, Somerset  1426704575  2022-02-26  \n",
      "                                     id  \\\n",
      "1  243809c0-9cfc-4486-ad12-3b7a16605ba9   \n",
      "2  1c58d3f9-8b93-47ea-9415-204fcc2a22e6   \n",
      "3  860673f1-57f6-47ba-8d2f-13f9e05b8f9a   \n",
      "4  59948726-29be-4b35-ade5-bb2fd7331856   \n",
      "5  16dbc860-696e-4cda-93f6-4dd4926573fb   \n",
      "\n",
      "                                        product_name  \\\n",
      "1  Mirror wall art | in Wokingham, Berkshire | Gu...   \n",
      "2  Stainless Steel Food Steamer | in Inverness, H...   \n",
      "3  Sun loungers | in Skegness, Lincolnshire | Gum...   \n",
      "4  Coffee side table from Ammunition ammo box hai...   \n",
      "5  Modern Shannon Sofa for sale at low cost | in ...   \n",
      "\n",
      "                                            category  \\\n",
      "1  Home & Garden / Dining, Living Room Furniture ...   \n",
      "2              Home & Garden / Other Household Goods   \n",
      "3  Home & Garden / Garden & Patio / Outdoor Setti...   \n",
      "4  Home & Garden / Dining, Living Room Furniture ...   \n",
      "5  Home & Garden / Dining, Living Room Furniture ...   \n",
      "\n",
      "                                 product_description  price  \\\n",
      "1  Mirror wall art. Posted by Nisha in Dining, Li...    5.0   \n",
      "2  Morphy Richard’s (model no 48755)Stainless ste...   20.0   \n",
      "3  I have 2 of these - collection only as I don’t...   20.0   \n",
      "4  Great reclaimed army ammunition box used as co...  115.0   \n",
      "5  New Design Shannon Corner sofa  5 Seater Avail...  450.0   \n",
      "\n",
      "                 location     page_id          create_time  \n",
      "1    Wokingham, Berkshire  1426704584  2022-02-26 00:00:00  \n",
      "2     Inverness, Highland  1426704579  2022-02-26 00:00:00  \n",
      "3  Skegness, Lincolnshire  1426704576  2022-02-26 00:00:00  \n",
      "4      Radstock, Somerset  1426704575  2022-02-26 00:00:00  \n",
      "5       Delph, Manchester  1426704570  2022-02-26 00:00:00  \n"
     ]
    }
   ],
   "source": [
    "tab_class = CleanData.allTables()\n",
    "explanatory = 'major_category'\n",
    "tab_class.try_merge(df_list=['products', 'products_2'])\n",
    "df_comb = tab_class.expand_category(df='combined')\n",
    "df_comb['price'] = df_comb['price'].astype(np.float32)\n",
    "df_comb = df_comb[df_comb['price'].astype(int) != 0]\n",
    "df_comb = df_comb.loc[:, ['price', explanatory]]\n",
    "df_comb = pd.get_dummies(df_comb, drop_first=True, prefix=None)\n",
    "df_comb.columns = df_comb.columns.str.removeprefix(f'{explanatory}_')\n"
   ]
  },
  {
   "cell_type": "code",
   "execution_count": 3,
   "metadata": {},
   "outputs": [
    {
     "data": {
      "text/plain": [
       "price                                0\n",
       "Baby & Kids Stuff                    0\n",
       "Clothes, Footwear & Accessories      0\n",
       "Computers & Software                 0\n",
       "DIY Tools & Materials                0\n",
       "Health & Beauty                      0\n",
       "Home & Garden                        0\n",
       "Music, Films, Books & Games          0\n",
       "Office Furniture & Equipment         0\n",
       "Other Goods                          0\n",
       "Phones, Mobile Phones & Telecoms     0\n",
       "Sports, Leisure & Travel             0\n",
       "Video Games & Consoles               0\n",
       "dtype: int64"
      ]
     },
     "execution_count": 3,
     "metadata": {},
     "output_type": "execute_result"
    }
   ],
   "source": [
    "df_comb[df_comb['price'] == 0].count()"
   ]
  },
  {
   "cell_type": "code",
   "execution_count": 4,
   "metadata": {},
   "outputs": [
    {
     "name": "stdout",
     "output_type": "stream",
     "text": [
      "R-Squared of Regression model:  0.9237182331421967\n",
      "Mean Squared Error of Training Sample:  206.06475528744684\n",
      "Mean Absolute Error of Training Sample:  0.6682947112566462\n",
      "Mean Squared Error of Training Sample:  69.12817024655936\n",
      "Mean Absolute Error of Training Sample:  0.6297657261138472\n"
     ]
    }
   ],
   "source": [
    "df_comb.head()\n",
    "model = LinearRegression()\n",
    "X = df_comb.drop(['price'], axis=1)\n",
    "y = df_comb['price']\n",
    "y = df_comb.applymap(np.sqrt)\n",
    "X_train, X_test, y_train, y_test = train_test_split(X, y, test_size=0.3)\n",
    "model.fit(X_train, y_train)\n",
    "\n",
    "print('R-Squared of Regression model: ', model.score(X_train, y_train))\n",
    "print('Mean Squared Error of Training Sample: ', mean_squared_error(y_train, model.predict(X_train)))\n",
    "print('Mean Absolute Error of Training Sample: ', mean_absolute_error(y_train, model.predict(X_train)))\n",
    "print('Mean Squared Error of Training Sample: ', mean_squared_error(y_test, model.predict(X_test)))\n",
    "print('Mean Absolute Error of Training Sample: ', mean_absolute_error(y_test, model.predict(X_test)))"
   ]
  },
  {
   "cell_type": "code",
   "execution_count": 5,
   "metadata": {},
   "outputs": [
    {
     "name": "stdout",
     "output_type": "stream",
     "text": [
      "[[-6.18263353e+00 -2.13880447e+00  5.76951626e+00 -1.88817395e-01\n",
      "  -4.24398420e-01 -1.30854921e+00 -6.54392722e+00  7.90343910e+00\n",
      "  -1.99192210e+00  2.63476734e+00  1.08925690e+01 -1.04642097e+00]\n",
      " [ 1.00000000e+00 -3.21133673e-16 -2.27583167e-16 -1.55399962e-16\n",
      "  -1.88152104e-16 -2.14017782e-16 -1.93302525e-16 -1.97976604e-16\n",
      "  -1.49187639e-16 -3.06600869e-16 -3.20056761e-16 -1.84565922e-16]\n",
      " [ 3.26416858e-16  1.00000000e+00  5.55111512e-17  5.55111512e-17\n",
      "   0.00000000e+00  5.55111512e-17  0.00000000e+00 -2.77555756e-16\n",
      "   2.22044605e-16  2.22044605e-16  2.49800181e-16  1.11022302e-16]\n",
      " [ 1.36824893e-16  1.66533454e-16  1.00000000e+00 -1.94289029e-16\n",
      "  -1.38777878e-17  1.94289029e-16 -1.24900090e-16 -1.11022302e-16\n",
      "   2.77555756e-17 -1.52655666e-16 -2.22044605e-16 -3.19189120e-16]\n",
      " [ 2.04669251e-16  1.66533454e-16 -1.24900090e-16  1.00000000e+00\n",
      "   2.08166817e-16 -8.32667268e-17  3.46944695e-16 -8.32667268e-17\n",
      "   1.52655666e-16  1.31838984e-16 -2.08166817e-16 -3.60822483e-16]\n",
      " [ 6.55531836e-16  9.43689571e-16  7.21644966e-16  1.52655666e-16\n",
      "   1.00000000e+00 -1.24900090e-16 -6.24500451e-16  4.99600361e-16\n",
      "  -2.22044605e-16 -1.94289029e-16  4.23272528e-16 -1.38777878e-17]\n",
      " [-9.62958806e-16 -5.55111512e-16 -4.44089210e-16 -9.15933995e-16\n",
      "  -1.20736754e-15  1.00000000e+00 -1.38777878e-16 -1.52655666e-16\n",
      "  -8.32667268e-17 -9.71445147e-17 -2.49800181e-16 -6.93889390e-17]\n",
      " [-4.09332818e-17 -1.11022302e-16 -4.71844785e-16 -2.08166817e-16\n",
      "  -4.99600361e-16 -1.38777878e-17  1.00000000e+00 -3.60822483e-16\n",
      "  -3.46944695e-16  1.52655666e-16  0.00000000e+00  5.27355937e-16]\n",
      " [ 8.46938489e-16  7.21644966e-16  1.12410081e-15  9.15933995e-16\n",
      "   7.07767178e-16  1.04083409e-15  4.02455846e-16  1.00000000e+00\n",
      "  -5.27355937e-16  5.55111512e-17 -1.52655666e-16 -2.49800181e-16]\n",
      " [-7.24834973e-17 -1.11022302e-16  1.38777878e-17  8.32667268e-17\n",
      "  -6.24500451e-16 -2.63677968e-16 -4.02455846e-16 -1.38777878e-16\n",
      "   1.00000000e+00  2.15105711e-16  2.77555756e-17  1.24900090e-16]\n",
      " [-1.63655517e-16  1.11022302e-16  5.41233725e-16  7.42461648e-16\n",
      "   4.85722573e-16  3.88578059e-16  4.57966998e-16  3.60822483e-16\n",
      "   7.07767178e-16  1.00000000e+00  2.08166817e-17  1.73472348e-16]\n",
      " [ 1.00887254e-15  6.93889390e-16  2.01227923e-16  2.56739074e-16\n",
      "   2.63677968e-16  4.44089210e-16  5.20417043e-16  6.52256027e-16\n",
      "   1.67921232e-15 -7.35522754e-16  1.00000000e+00 -1.52655666e-16]\n",
      " [ 4.89230275e-16  1.05471187e-15  1.94289029e-16  3.46944695e-16\n",
      "   9.43689571e-16 -1.38777878e-16  5.55111512e-16  5.96744876e-16\n",
      "   6.10622664e-16  2.17881269e-15  1.52655666e-16  1.00000000e+00]]\n",
      "['Baby & Kids Stuff ' 'Clothes, Footwear & Accessories '\n",
      " 'Computers & Software ' 'DIY Tools & Materials ' 'Health & Beauty '\n",
      " 'Home & Garden ' 'Music, Films, Books & Games '\n",
      " 'Office Furniture & Equipment ' 'Other Goods '\n",
      " 'Phones, Mobile Phones & Telecoms ' 'Sports, Leisure & Travel '\n",
      " 'Video Games & Consoles ']\n"
     ]
    }
   ],
   "source": [
    "print(model.coef_)\n",
    "print(model.feature_names_in_)"
   ]
  },
  {
   "cell_type": "code",
   "execution_count": null,
   "metadata": {},
   "outputs": [],
   "source": []
  }
 ],
 "metadata": {
  "interpreter": {
   "hash": "0ca6e4f64349b37e43d103d34f8b7f64a464de9243649aae08dfeb58b2445472"
  },
  "kernelspec": {
   "display_name": "Python 3.9.7 ('scaper_env')",
   "language": "python",
   "name": "python3"
  },
  "language_info": {
   "codemirror_mode": {
    "name": "ipython",
    "version": 3
   },
   "file_extension": ".py",
   "mimetype": "text/x-python",
   "name": "python",
   "nbconvert_exporter": "python",
   "pygments_lexer": "ipython3",
   "version": "3.9.7"
  },
  "orig_nbformat": 4
 },
 "nbformat": 4,
 "nbformat_minor": 2
}
