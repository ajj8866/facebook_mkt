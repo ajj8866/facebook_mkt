{
 "cells": [
  {
   "cell_type": "code",
   "execution_count": 7,
   "metadata": {},
   "outputs": [],
   "source": [
    "from clean_tabular import CleanData\n",
    "import pandas as pd\n",
    "import numpy as np\n",
    "import matplotlib.pyplot as plt\n",
    "from matplotlib.gridspec import GridSpec\n",
    "from sklearn.preprocessing import StandardScaler\n",
    "from sklearn.linear_model import LinearRegression\n",
    "import seaborn as sns\n",
    "from sklearn.model_selection import train_test_split\n",
    "from sklearn.metrics import mean_absolute_error, mean_squared_error\n",
    "\n",
    "pd.set_option('display.max_columns', 30)\n",
    "pd.set_option('display.max_rows', 50)"
   ]
  },
  {
   "cell_type": "code",
   "execution_count": 8,
   "metadata": {},
   "outputs": [
    {
     "name": "stdout",
     "output_type": "stream",
     "text": [
      "                                     id  \\\n",
      "0  ac2140ae-f0d5-4fe7-ac08-df0f109fd734   \n",
      "1  243809c0-9cfc-4486-ad12-3b7a16605ba9   \n",
      "2  1c58d3f9-8b93-47ea-9415-204fcc2a22e6   \n",
      "3  860673f1-57f6-47ba-8d2f-13f9e05b8f9a   \n",
      "4  59948726-29be-4b35-ade5-bb2fd7331856   \n",
      "\n",
      "                                        product_name  \\\n",
      "0  Second-Hand Sofas, Couches & Armchairs for Sal...   \n",
      "1  Mirror wall art | in Wokingham, Berkshire | Gu...   \n",
      "2  Stainless Steel Food Steamer | in Inverness, H...   \n",
      "3  Sun loungers | in Skegness, Lincolnshire | Gum...   \n",
      "4  Coffee side table from Ammunition ammo box hai...   \n",
      "\n",
      "                                            category  \\\n",
      "0                                                N/A   \n",
      "1  Home & Garden / Dining, Living Room Furniture ...   \n",
      "2              Home & Garden / Other Household Goods   \n",
      "3  Home & Garden / Garden & Patio / Outdoor Setti...   \n",
      "4  Home & Garden / Dining, Living Room Furniture ...   \n",
      "\n",
      "                                 product_description    price  \\\n",
      "0                                                N/A      NaN   \n",
      "1  Mirror wall art. Posted by Nisha in Dining, Li...    £5.00   \n",
      "2  Morphy Richard’s (model no 48755)Stainless ste...   £20.00   \n",
      "3  I have 2 of these - collection only as I don’t...   £20.00   \n",
      "4  Great reclaimed army ammunition box used as co...  £115.00   \n",
      "\n",
      "                 location     page_id create_time  \n",
      "0                     N/A  1426592234  2022-02-26  \n",
      "1    Wokingham, Berkshire  1426704584  2022-02-26  \n",
      "2     Inverness, Highland  1426704579  2022-02-26  \n",
      "3  Skegness, Lincolnshire  1426704576  2022-02-26  \n",
      "4      Radstock, Somerset  1426704575  2022-02-26  \n",
      "                                     id  \\\n",
      "0  ac2140ae-f0d5-4fe7-ac08-df0f109fd734   \n",
      "1  243809c0-9cfc-4486-ad12-3b7a16605ba9   \n",
      "2  1c58d3f9-8b93-47ea-9415-204fcc2a22e6   \n",
      "3  860673f1-57f6-47ba-8d2f-13f9e05b8f9a   \n",
      "4  59948726-29be-4b35-ade5-bb2fd7331856   \n",
      "\n",
      "                                        product_name  \\\n",
      "0  Second-Hand Sofas, Couches & Armchairs for Sal...   \n",
      "1  Mirror wall art | in Wokingham, Berkshire | Gu...   \n",
      "2  Stainless Steel Food Steamer | in Inverness, H...   \n",
      "3  Sun loungers | in Skegness, Lincolnshire | Gum...   \n",
      "4  Coffee side table from Ammunition ammo box hai...   \n",
      "\n",
      "                                            category  \\\n",
      "0                                                N/A   \n",
      "1  Home & Garden / Dining, Living Room Furniture ...   \n",
      "2              Home & Garden / Other Household Goods   \n",
      "3  Home & Garden / Garden & Patio / Outdoor Setti...   \n",
      "4  Home & Garden / Dining, Living Room Furniture ...   \n",
      "\n",
      "                                 product_description    price  \\\n",
      "0                                                N/A      NaN   \n",
      "1  Mirror wall art. Posted by Nisha in Dining, Li...    £5.00   \n",
      "2  Morphy Richard’s (model no 48755)Stainless ste...   £20.00   \n",
      "3  I have 2 of these - collection only as I don’t...   £20.00   \n",
      "4  Great reclaimed army ammunition box used as co...  £115.00   \n",
      "\n",
      "                 location     page_id create_time  \n",
      "0                     N/A  1426592234  2022-02-26  \n",
      "1    Wokingham, Berkshire  1426704584  2022-02-26  \n",
      "2     Inverness, Highland  1426704579  2022-02-26  \n",
      "3  Skegness, Lincolnshire  1426704576  2022-02-26  \n",
      "4      Radstock, Somerset  1426704575  2022-02-26  \n",
      "                                     id  \\\n",
      "1  243809c0-9cfc-4486-ad12-3b7a16605ba9   \n",
      "2  1c58d3f9-8b93-47ea-9415-204fcc2a22e6   \n",
      "3  860673f1-57f6-47ba-8d2f-13f9e05b8f9a   \n",
      "4  59948726-29be-4b35-ade5-bb2fd7331856   \n",
      "5  16dbc860-696e-4cda-93f6-4dd4926573fb   \n",
      "\n",
      "                                        product_name  \\\n",
      "1  Mirror wall art | in Wokingham, Berkshire | Gu...   \n",
      "2  Stainless Steel Food Steamer | in Inverness, H...   \n",
      "3  Sun loungers | in Skegness, Lincolnshire | Gum...   \n",
      "4  Coffee side table from Ammunition ammo box hai...   \n",
      "5  Modern Shannon Sofa for sale at low cost | in ...   \n",
      "\n",
      "                                            category  \\\n",
      "1  Home & Garden / Dining, Living Room Furniture ...   \n",
      "2              Home & Garden / Other Household Goods   \n",
      "3  Home & Garden / Garden & Patio / Outdoor Setti...   \n",
      "4  Home & Garden / Dining, Living Room Furniture ...   \n",
      "5  Home & Garden / Dining, Living Room Furniture ...   \n",
      "\n",
      "                                 product_description  price  \\\n",
      "1  Mirror wall art. Posted by Nisha in Dining, Li...    5.0   \n",
      "2  Morphy Richard’s (model no 48755)Stainless ste...   20.0   \n",
      "3  I have 2 of these - collection only as I don’t...   20.0   \n",
      "4  Great reclaimed army ammunition box used as co...  115.0   \n",
      "5  New Design Shannon Corner sofa  5 Seater Avail...  450.0   \n",
      "\n",
      "                 location     page_id          create_time  \n",
      "1    Wokingham, Berkshire  1426704584  2022-02-26 00:00:00  \n",
      "2     Inverness, Highland  1426704579  2022-02-26 00:00:00  \n",
      "3  Skegness, Lincolnshire  1426704576  2022-02-26 00:00:00  \n",
      "4      Radstock, Somerset  1426704575  2022-02-26 00:00:00  \n",
      "5       Delph, Manchester  1426704570  2022-02-26 00:00:00  \n"
     ]
    }
   ],
   "source": [
    "tab_class = CleanData.allTables()\n",
    "explanatory = 'minor_category'\n",
    "tab_class.try_merge(df_list=['products', 'products_2'])\n",
    "df_comb = tab_class.expand_category(df='combined')\n",
    "df_comb['price'] = df_comb['price'].astype(np.float32)\n",
    "df_comb = df_comb.loc[:, ['price', 'minor_category']]\n",
    "df_comb = pd.get_dummies(df_comb, drop_first=True, prefix=None)\n",
    "df_comb.columns = df_comb.columns.str.removeprefix('minor_category_')\n"
   ]
  },
  {
   "cell_type": "code",
   "execution_count": 11,
   "metadata": {},
   "outputs": [
    {
     "data": {
      "text/plain": [
       "price                                92\n",
       " Aquariums                           92\n",
       " Baby & Child Safety                 92\n",
       " Baby Bouncers, Rockers & Swings     92\n",
       " Baby Clothes                        92\n",
       "                                     ..\n",
       " Winter Sports                       92\n",
       " Women's Accessories                 92\n",
       " Women's Clothing                    92\n",
       " Women's Shoes                       92\n",
       " Wood & Timber                       92\n",
       "Length: 115, dtype: int64"
      ]
     },
     "execution_count": 11,
     "metadata": {},
     "output_type": "execute_result"
    }
   ],
   "source": [
    "df_comb[df_comb['price'] == 0].count()"
   ]
  },
  {
   "cell_type": "code",
   "execution_count": 4,
   "metadata": {},
   "outputs": [
    {
     "name": "stderr",
     "output_type": "stream",
     "text": [
      "/Users/aj8/opt/anaconda3/envs/scaper_env/lib/python3.9/site-packages/pandas/core/frame.py:8916: RuntimeWarning: divide by zero encountered in log\n",
      "  return lib.map_infer(x.astype(object)._values, func, ignore_na=ignore_na)\n"
     ]
    },
    {
     "ename": "ValueError",
     "evalue": "Input contains NaN, infinity or a value too large for dtype('float64').",
     "output_type": "error",
     "traceback": [
      "\u001b[0;31m---------------------------------------------------------------------------\u001b[0m",
      "\u001b[0;31mValueError\u001b[0m                                Traceback (most recent call last)",
      "\u001b[1;32m/Users/aj8/Downloads/AICore/facebook_mkt/linear_regression.ipynb Cell 3'\u001b[0m in \u001b[0;36m<cell line: 7>\u001b[0;34m()\u001b[0m\n\u001b[1;32m      <a href='vscode-notebook-cell:/Users/aj8/Downloads/AICore/facebook_mkt/linear_regression.ipynb#ch0000002?line=4'>5</a>\u001b[0m y \u001b[39m=\u001b[39m df_comb\u001b[39m.\u001b[39mapplymap(np\u001b[39m.\u001b[39mlog)\n\u001b[1;32m      <a href='vscode-notebook-cell:/Users/aj8/Downloads/AICore/facebook_mkt/linear_regression.ipynb#ch0000002?line=5'>6</a>\u001b[0m X_train, X_test, y_train, y_test \u001b[39m=\u001b[39m train_test_split(X, y, test_size\u001b[39m=\u001b[39m\u001b[39m0.3\u001b[39m)\n\u001b[0;32m----> <a href='vscode-notebook-cell:/Users/aj8/Downloads/AICore/facebook_mkt/linear_regression.ipynb#ch0000002?line=6'>7</a>\u001b[0m model\u001b[39m.\u001b[39;49mfit(X_train, y_train)\n\u001b[1;32m      <a href='vscode-notebook-cell:/Users/aj8/Downloads/AICore/facebook_mkt/linear_regression.ipynb#ch0000002?line=7'>8</a>\u001b[0m \u001b[39m#print(model.coef_)\u001b[39;00m\n\u001b[1;32m      <a href='vscode-notebook-cell:/Users/aj8/Downloads/AICore/facebook_mkt/linear_regression.ipynb#ch0000002?line=8'>9</a>\u001b[0m \u001b[39m#print(model.feature_names_in_)\u001b[39;00m\n\u001b[1;32m     <a href='vscode-notebook-cell:/Users/aj8/Downloads/AICore/facebook_mkt/linear_regression.ipynb#ch0000002?line=9'>10</a>\u001b[0m \u001b[39mprint\u001b[39m(\u001b[39m'\u001b[39m\u001b[39mR-Squared of Regression model: \u001b[39m\u001b[39m'\u001b[39m, model\u001b[39m.\u001b[39mscore(X_train, y_train))\n",
      "File \u001b[0;32m~/opt/anaconda3/envs/scaper_env/lib/python3.9/site-packages/sklearn/linear_model/_base.py:662\u001b[0m, in \u001b[0;36mLinearRegression.fit\u001b[0;34m(self, X, y, sample_weight)\u001b[0m\n\u001b[1;32m    <a href='file:///Users/aj8/opt/anaconda3/envs/scaper_env/lib/python3.9/site-packages/sklearn/linear_model/_base.py?line=657'>658</a>\u001b[0m n_jobs_ \u001b[39m=\u001b[39m \u001b[39mself\u001b[39m\u001b[39m.\u001b[39mn_jobs\n\u001b[1;32m    <a href='file:///Users/aj8/opt/anaconda3/envs/scaper_env/lib/python3.9/site-packages/sklearn/linear_model/_base.py?line=659'>660</a>\u001b[0m accept_sparse \u001b[39m=\u001b[39m \u001b[39mFalse\u001b[39;00m \u001b[39mif\u001b[39;00m \u001b[39mself\u001b[39m\u001b[39m.\u001b[39mpositive \u001b[39melse\u001b[39;00m [\u001b[39m\"\u001b[39m\u001b[39mcsr\u001b[39m\u001b[39m\"\u001b[39m, \u001b[39m\"\u001b[39m\u001b[39mcsc\u001b[39m\u001b[39m\"\u001b[39m, \u001b[39m\"\u001b[39m\u001b[39mcoo\u001b[39m\u001b[39m\"\u001b[39m]\n\u001b[0;32m--> <a href='file:///Users/aj8/opt/anaconda3/envs/scaper_env/lib/python3.9/site-packages/sklearn/linear_model/_base.py?line=661'>662</a>\u001b[0m X, y \u001b[39m=\u001b[39m \u001b[39mself\u001b[39;49m\u001b[39m.\u001b[39;49m_validate_data(\n\u001b[1;32m    <a href='file:///Users/aj8/opt/anaconda3/envs/scaper_env/lib/python3.9/site-packages/sklearn/linear_model/_base.py?line=662'>663</a>\u001b[0m     X, y, accept_sparse\u001b[39m=\u001b[39;49maccept_sparse, y_numeric\u001b[39m=\u001b[39;49m\u001b[39mTrue\u001b[39;49;00m, multi_output\u001b[39m=\u001b[39;49m\u001b[39mTrue\u001b[39;49;00m\n\u001b[1;32m    <a href='file:///Users/aj8/opt/anaconda3/envs/scaper_env/lib/python3.9/site-packages/sklearn/linear_model/_base.py?line=663'>664</a>\u001b[0m )\n\u001b[1;32m    <a href='file:///Users/aj8/opt/anaconda3/envs/scaper_env/lib/python3.9/site-packages/sklearn/linear_model/_base.py?line=665'>666</a>\u001b[0m \u001b[39mif\u001b[39;00m sample_weight \u001b[39mis\u001b[39;00m \u001b[39mnot\u001b[39;00m \u001b[39mNone\u001b[39;00m:\n\u001b[1;32m    <a href='file:///Users/aj8/opt/anaconda3/envs/scaper_env/lib/python3.9/site-packages/sklearn/linear_model/_base.py?line=666'>667</a>\u001b[0m     sample_weight \u001b[39m=\u001b[39m _check_sample_weight(sample_weight, X, dtype\u001b[39m=\u001b[39mX\u001b[39m.\u001b[39mdtype)\n",
      "File \u001b[0;32m~/opt/anaconda3/envs/scaper_env/lib/python3.9/site-packages/sklearn/base.py:581\u001b[0m, in \u001b[0;36mBaseEstimator._validate_data\u001b[0;34m(self, X, y, reset, validate_separately, **check_params)\u001b[0m\n\u001b[1;32m    <a href='file:///Users/aj8/opt/anaconda3/envs/scaper_env/lib/python3.9/site-packages/sklearn/base.py?line=578'>579</a>\u001b[0m         y \u001b[39m=\u001b[39m check_array(y, \u001b[39m*\u001b[39m\u001b[39m*\u001b[39mcheck_y_params)\n\u001b[1;32m    <a href='file:///Users/aj8/opt/anaconda3/envs/scaper_env/lib/python3.9/site-packages/sklearn/base.py?line=579'>580</a>\u001b[0m     \u001b[39melse\u001b[39;00m:\n\u001b[0;32m--> <a href='file:///Users/aj8/opt/anaconda3/envs/scaper_env/lib/python3.9/site-packages/sklearn/base.py?line=580'>581</a>\u001b[0m         X, y \u001b[39m=\u001b[39m check_X_y(X, y, \u001b[39m*\u001b[39;49m\u001b[39m*\u001b[39;49mcheck_params)\n\u001b[1;32m    <a href='file:///Users/aj8/opt/anaconda3/envs/scaper_env/lib/python3.9/site-packages/sklearn/base.py?line=581'>582</a>\u001b[0m     out \u001b[39m=\u001b[39m X, y\n\u001b[1;32m    <a href='file:///Users/aj8/opt/anaconda3/envs/scaper_env/lib/python3.9/site-packages/sklearn/base.py?line=583'>584</a>\u001b[0m \u001b[39mif\u001b[39;00m \u001b[39mnot\u001b[39;00m no_val_X \u001b[39mand\u001b[39;00m check_params\u001b[39m.\u001b[39mget(\u001b[39m\"\u001b[39m\u001b[39mensure_2d\u001b[39m\u001b[39m\"\u001b[39m, \u001b[39mTrue\u001b[39;00m):\n",
      "File \u001b[0;32m~/opt/anaconda3/envs/scaper_env/lib/python3.9/site-packages/sklearn/utils/validation.py:979\u001b[0m, in \u001b[0;36mcheck_X_y\u001b[0;34m(X, y, accept_sparse, accept_large_sparse, dtype, order, copy, force_all_finite, ensure_2d, allow_nd, multi_output, ensure_min_samples, ensure_min_features, y_numeric, estimator)\u001b[0m\n\u001b[1;32m    <a href='file:///Users/aj8/opt/anaconda3/envs/scaper_env/lib/python3.9/site-packages/sklearn/utils/validation.py?line=961'>962</a>\u001b[0m     \u001b[39mraise\u001b[39;00m \u001b[39mValueError\u001b[39;00m(\u001b[39m\"\u001b[39m\u001b[39my cannot be None\u001b[39m\u001b[39m\"\u001b[39m)\n\u001b[1;32m    <a href='file:///Users/aj8/opt/anaconda3/envs/scaper_env/lib/python3.9/site-packages/sklearn/utils/validation.py?line=963'>964</a>\u001b[0m X \u001b[39m=\u001b[39m check_array(\n\u001b[1;32m    <a href='file:///Users/aj8/opt/anaconda3/envs/scaper_env/lib/python3.9/site-packages/sklearn/utils/validation.py?line=964'>965</a>\u001b[0m     X,\n\u001b[1;32m    <a href='file:///Users/aj8/opt/anaconda3/envs/scaper_env/lib/python3.9/site-packages/sklearn/utils/validation.py?line=965'>966</a>\u001b[0m     accept_sparse\u001b[39m=\u001b[39maccept_sparse,\n\u001b[0;32m   (...)\u001b[0m\n\u001b[1;32m    <a href='file:///Users/aj8/opt/anaconda3/envs/scaper_env/lib/python3.9/site-packages/sklearn/utils/validation.py?line=975'>976</a>\u001b[0m     estimator\u001b[39m=\u001b[39mestimator,\n\u001b[1;32m    <a href='file:///Users/aj8/opt/anaconda3/envs/scaper_env/lib/python3.9/site-packages/sklearn/utils/validation.py?line=976'>977</a>\u001b[0m )\n\u001b[0;32m--> <a href='file:///Users/aj8/opt/anaconda3/envs/scaper_env/lib/python3.9/site-packages/sklearn/utils/validation.py?line=978'>979</a>\u001b[0m y \u001b[39m=\u001b[39m _check_y(y, multi_output\u001b[39m=\u001b[39;49mmulti_output, y_numeric\u001b[39m=\u001b[39;49my_numeric)\n\u001b[1;32m    <a href='file:///Users/aj8/opt/anaconda3/envs/scaper_env/lib/python3.9/site-packages/sklearn/utils/validation.py?line=980'>981</a>\u001b[0m check_consistent_length(X, y)\n\u001b[1;32m    <a href='file:///Users/aj8/opt/anaconda3/envs/scaper_env/lib/python3.9/site-packages/sklearn/utils/validation.py?line=982'>983</a>\u001b[0m \u001b[39mreturn\u001b[39;00m X, y\n",
      "File \u001b[0;32m~/opt/anaconda3/envs/scaper_env/lib/python3.9/site-packages/sklearn/utils/validation.py:989\u001b[0m, in \u001b[0;36m_check_y\u001b[0;34m(y, multi_output, y_numeric)\u001b[0m\n\u001b[1;32m    <a href='file:///Users/aj8/opt/anaconda3/envs/scaper_env/lib/python3.9/site-packages/sklearn/utils/validation.py?line=986'>987</a>\u001b[0m \u001b[39m\"\"\"Isolated part of check_X_y dedicated to y validation\"\"\"\u001b[39;00m\n\u001b[1;32m    <a href='file:///Users/aj8/opt/anaconda3/envs/scaper_env/lib/python3.9/site-packages/sklearn/utils/validation.py?line=987'>988</a>\u001b[0m \u001b[39mif\u001b[39;00m multi_output:\n\u001b[0;32m--> <a href='file:///Users/aj8/opt/anaconda3/envs/scaper_env/lib/python3.9/site-packages/sklearn/utils/validation.py?line=988'>989</a>\u001b[0m     y \u001b[39m=\u001b[39m check_array(\n\u001b[1;32m    <a href='file:///Users/aj8/opt/anaconda3/envs/scaper_env/lib/python3.9/site-packages/sklearn/utils/validation.py?line=989'>990</a>\u001b[0m         y, accept_sparse\u001b[39m=\u001b[39;49m\u001b[39m\"\u001b[39;49m\u001b[39mcsr\u001b[39;49m\u001b[39m\"\u001b[39;49m, force_all_finite\u001b[39m=\u001b[39;49m\u001b[39mTrue\u001b[39;49;00m, ensure_2d\u001b[39m=\u001b[39;49m\u001b[39mFalse\u001b[39;49;00m, dtype\u001b[39m=\u001b[39;49m\u001b[39mNone\u001b[39;49;00m\n\u001b[1;32m    <a href='file:///Users/aj8/opt/anaconda3/envs/scaper_env/lib/python3.9/site-packages/sklearn/utils/validation.py?line=990'>991</a>\u001b[0m     )\n\u001b[1;32m    <a href='file:///Users/aj8/opt/anaconda3/envs/scaper_env/lib/python3.9/site-packages/sklearn/utils/validation.py?line=991'>992</a>\u001b[0m \u001b[39melse\u001b[39;00m:\n\u001b[1;32m    <a href='file:///Users/aj8/opt/anaconda3/envs/scaper_env/lib/python3.9/site-packages/sklearn/utils/validation.py?line=992'>993</a>\u001b[0m     y \u001b[39m=\u001b[39m column_or_1d(y, warn\u001b[39m=\u001b[39m\u001b[39mTrue\u001b[39;00m)\n",
      "File \u001b[0;32m~/opt/anaconda3/envs/scaper_env/lib/python3.9/site-packages/sklearn/utils/validation.py:800\u001b[0m, in \u001b[0;36mcheck_array\u001b[0;34m(array, accept_sparse, accept_large_sparse, dtype, order, copy, force_all_finite, ensure_2d, allow_nd, ensure_min_samples, ensure_min_features, estimator)\u001b[0m\n\u001b[1;32m    <a href='file:///Users/aj8/opt/anaconda3/envs/scaper_env/lib/python3.9/site-packages/sklearn/utils/validation.py?line=793'>794</a>\u001b[0m         \u001b[39mraise\u001b[39;00m \u001b[39mValueError\u001b[39;00m(\n\u001b[1;32m    <a href='file:///Users/aj8/opt/anaconda3/envs/scaper_env/lib/python3.9/site-packages/sklearn/utils/validation.py?line=794'>795</a>\u001b[0m             \u001b[39m\"\u001b[39m\u001b[39mFound array with dim \u001b[39m\u001b[39m%d\u001b[39;00m\u001b[39m. \u001b[39m\u001b[39m%s\u001b[39;00m\u001b[39m expected <= 2.\u001b[39m\u001b[39m\"\u001b[39m\n\u001b[1;32m    <a href='file:///Users/aj8/opt/anaconda3/envs/scaper_env/lib/python3.9/site-packages/sklearn/utils/validation.py?line=795'>796</a>\u001b[0m             \u001b[39m%\u001b[39m (array\u001b[39m.\u001b[39mndim, estimator_name)\n\u001b[1;32m    <a href='file:///Users/aj8/opt/anaconda3/envs/scaper_env/lib/python3.9/site-packages/sklearn/utils/validation.py?line=796'>797</a>\u001b[0m         )\n\u001b[1;32m    <a href='file:///Users/aj8/opt/anaconda3/envs/scaper_env/lib/python3.9/site-packages/sklearn/utils/validation.py?line=798'>799</a>\u001b[0m     \u001b[39mif\u001b[39;00m force_all_finite:\n\u001b[0;32m--> <a href='file:///Users/aj8/opt/anaconda3/envs/scaper_env/lib/python3.9/site-packages/sklearn/utils/validation.py?line=799'>800</a>\u001b[0m         _assert_all_finite(array, allow_nan\u001b[39m=\u001b[39;49mforce_all_finite \u001b[39m==\u001b[39;49m \u001b[39m\"\u001b[39;49m\u001b[39mallow-nan\u001b[39;49m\u001b[39m\"\u001b[39;49m)\n\u001b[1;32m    <a href='file:///Users/aj8/opt/anaconda3/envs/scaper_env/lib/python3.9/site-packages/sklearn/utils/validation.py?line=801'>802</a>\u001b[0m \u001b[39mif\u001b[39;00m ensure_min_samples \u001b[39m>\u001b[39m \u001b[39m0\u001b[39m:\n\u001b[1;32m    <a href='file:///Users/aj8/opt/anaconda3/envs/scaper_env/lib/python3.9/site-packages/sklearn/utils/validation.py?line=802'>803</a>\u001b[0m     n_samples \u001b[39m=\u001b[39m _num_samples(array)\n",
      "File \u001b[0;32m~/opt/anaconda3/envs/scaper_env/lib/python3.9/site-packages/sklearn/utils/validation.py:114\u001b[0m, in \u001b[0;36m_assert_all_finite\u001b[0;34m(X, allow_nan, msg_dtype)\u001b[0m\n\u001b[1;32m    <a href='file:///Users/aj8/opt/anaconda3/envs/scaper_env/lib/python3.9/site-packages/sklearn/utils/validation.py?line=106'>107</a>\u001b[0m     \u001b[39mif\u001b[39;00m (\n\u001b[1;32m    <a href='file:///Users/aj8/opt/anaconda3/envs/scaper_env/lib/python3.9/site-packages/sklearn/utils/validation.py?line=107'>108</a>\u001b[0m         allow_nan\n\u001b[1;32m    <a href='file:///Users/aj8/opt/anaconda3/envs/scaper_env/lib/python3.9/site-packages/sklearn/utils/validation.py?line=108'>109</a>\u001b[0m         \u001b[39mand\u001b[39;00m np\u001b[39m.\u001b[39misinf(X)\u001b[39m.\u001b[39many()\n\u001b[1;32m    <a href='file:///Users/aj8/opt/anaconda3/envs/scaper_env/lib/python3.9/site-packages/sklearn/utils/validation.py?line=109'>110</a>\u001b[0m         \u001b[39mor\u001b[39;00m \u001b[39mnot\u001b[39;00m allow_nan\n\u001b[1;32m    <a href='file:///Users/aj8/opt/anaconda3/envs/scaper_env/lib/python3.9/site-packages/sklearn/utils/validation.py?line=110'>111</a>\u001b[0m         \u001b[39mand\u001b[39;00m \u001b[39mnot\u001b[39;00m np\u001b[39m.\u001b[39misfinite(X)\u001b[39m.\u001b[39mall()\n\u001b[1;32m    <a href='file:///Users/aj8/opt/anaconda3/envs/scaper_env/lib/python3.9/site-packages/sklearn/utils/validation.py?line=111'>112</a>\u001b[0m     ):\n\u001b[1;32m    <a href='file:///Users/aj8/opt/anaconda3/envs/scaper_env/lib/python3.9/site-packages/sklearn/utils/validation.py?line=112'>113</a>\u001b[0m         type_err \u001b[39m=\u001b[39m \u001b[39m\"\u001b[39m\u001b[39minfinity\u001b[39m\u001b[39m\"\u001b[39m \u001b[39mif\u001b[39;00m allow_nan \u001b[39melse\u001b[39;00m \u001b[39m\"\u001b[39m\u001b[39mNaN, infinity\u001b[39m\u001b[39m\"\u001b[39m\n\u001b[0;32m--> <a href='file:///Users/aj8/opt/anaconda3/envs/scaper_env/lib/python3.9/site-packages/sklearn/utils/validation.py?line=113'>114</a>\u001b[0m         \u001b[39mraise\u001b[39;00m \u001b[39mValueError\u001b[39;00m(\n\u001b[1;32m    <a href='file:///Users/aj8/opt/anaconda3/envs/scaper_env/lib/python3.9/site-packages/sklearn/utils/validation.py?line=114'>115</a>\u001b[0m             msg_err\u001b[39m.\u001b[39mformat(\n\u001b[1;32m    <a href='file:///Users/aj8/opt/anaconda3/envs/scaper_env/lib/python3.9/site-packages/sklearn/utils/validation.py?line=115'>116</a>\u001b[0m                 type_err, msg_dtype \u001b[39mif\u001b[39;00m msg_dtype \u001b[39mis\u001b[39;00m \u001b[39mnot\u001b[39;00m \u001b[39mNone\u001b[39;00m \u001b[39melse\u001b[39;00m X\u001b[39m.\u001b[39mdtype\n\u001b[1;32m    <a href='file:///Users/aj8/opt/anaconda3/envs/scaper_env/lib/python3.9/site-packages/sklearn/utils/validation.py?line=116'>117</a>\u001b[0m             )\n\u001b[1;32m    <a href='file:///Users/aj8/opt/anaconda3/envs/scaper_env/lib/python3.9/site-packages/sklearn/utils/validation.py?line=117'>118</a>\u001b[0m         )\n\u001b[1;32m    <a href='file:///Users/aj8/opt/anaconda3/envs/scaper_env/lib/python3.9/site-packages/sklearn/utils/validation.py?line=118'>119</a>\u001b[0m \u001b[39m# for object dtype data, we only check for NaNs (GH-13254)\u001b[39;00m\n\u001b[1;32m    <a href='file:///Users/aj8/opt/anaconda3/envs/scaper_env/lib/python3.9/site-packages/sklearn/utils/validation.py?line=119'>120</a>\u001b[0m \u001b[39melif\u001b[39;00m X\u001b[39m.\u001b[39mdtype \u001b[39m==\u001b[39m np\u001b[39m.\u001b[39mdtype(\u001b[39m\"\u001b[39m\u001b[39mobject\u001b[39m\u001b[39m\"\u001b[39m) \u001b[39mand\u001b[39;00m \u001b[39mnot\u001b[39;00m allow_nan:\n",
      "\u001b[0;31mValueError\u001b[0m: Input contains NaN, infinity or a value too large for dtype('float64')."
     ]
    }
   ],
   "source": [
    "df_comb.head()\n",
    "model = LinearRegression()\n",
    "X = df_comb.drop(['price'], axis=1)\n",
    "y = df_comb['price']\n",
    "y = df_comb.applymap(np.log)\n",
    "X_train, X_test, y_train, y_test = train_test_split(X, y, test_size=0.3)\n",
    "model.fit(X_train, y_train)\n",
    "#print(model.coef_)\n",
    "#print(model.feature_names_in_)\n",
    "print('R-Squared of Regression model: ', model.score(X_train, y_train))\n",
    "print('Mean Squared Error of Training Sample: ', mean_squared_error(y_train, model.predict(X_train)))\n",
    "print('Mean Absolute Error of Training Sample: ', mean_absolute_error(y_train, model.predict(X_train)))\n",
    "print('Mean Squared Error of Training Sample: ', mean_squared_error(y_test, model.predict(X_test)))\n",
    "print('Mean Absolute Error of Training Sample: ', mean_absolute_error(y_test, model.predict(X_test)))"
   ]
  },
  {
   "cell_type": "code",
   "execution_count": null,
   "metadata": {},
   "outputs": [],
   "source": []
  }
 ],
 "metadata": {
  "interpreter": {
   "hash": "0ca6e4f64349b37e43d103d34f8b7f64a464de9243649aae08dfeb58b2445472"
  },
  "kernelspec": {
   "display_name": "Python 3.9.7 ('scaper_env')",
   "language": "python",
   "name": "python3"
  },
  "language_info": {
   "codemirror_mode": {
    "name": "ipython",
    "version": 3
   },
   "file_extension": ".py",
   "mimetype": "text/x-python",
   "name": "python",
   "nbconvert_exporter": "python",
   "pygments_lexer": "ipython3",
   "version": "3.9.7"
  },
  "orig_nbformat": 4
 },
 "nbformat": 4,
 "nbformat_minor": 2
}
