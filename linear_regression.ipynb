{
 "cells": [
  {
   "cell_type": "code",
   "execution_count": 1,
   "metadata": {},
   "outputs": [],
   "source": [
    "from clean_tabular import CleanData\n",
    "import pandas as pd\n",
    "import numpy as np\n",
    "import matplotlib.pyplot as plt\n",
    "from matplotlib.gridspec import GridSpec\n",
    "from sklearn.preprocessing import StandardScaler\n",
    "from sklearn.linear_model import LinearRegression\n",
    "import seaborn as sns\n",
    "from sklearn.model_selection import train_test_split\n",
    "from sklearn.metrics import mean_absolute_error, mean_squared_error\n",
    "\n",
    "pd.set_option('display.max_columns', 30)\n",
    "pd.set_option('display.max_rows', 50)"
   ]
  },
  {
   "cell_type": "code",
   "execution_count": 2,
   "metadata": {},
   "outputs": [
    {
     "name": "stdout",
     "output_type": "stream",
     "text": [
      "{0: 'Home & Garden ', 1: 'Baby & Kids Stuff ', 2: 'DIY Tools & Materials ', 3: 'Music, Films, Books & Games ', 4: 'Phones, Mobile Phones & Telecoms ', 5: 'Clothes, Footwear & Accessories ', 6: 'Other Goods ', 7: 'Health & Beauty ', 8: 'Sports, Leisure & Travel ', 9: 'Appliances ', 10: 'Computers & Software ', 11: 'Office Furniture & Equipment ', 12: 'Video Games & Consoles '}\n",
      "{'Home & Garden ': 0, 'Baby & Kids Stuff ': 1, 'DIY Tools & Materials ': 2, 'Music, Films, Books & Games ': 3, 'Phones, Mobile Phones & Telecoms ': 4, 'Clothes, Footwear & Accessories ': 5, 'Other Goods ': 6, 'Health & Beauty ': 7, 'Sports, Leisure & Travel ': 8, 'Appliances ': 9, 'Computers & Software ': 10, 'Office Furniture & Equipment ': 11, 'Video Games & Consoles ': 12}\n",
      "Encoder {'Home & Garden ': 0, 'Baby & Kids Stuff ': 1, 'DIY Tools & Materials ': 2, 'Music, Films, Books & Games ': 3, 'Phones, Mobile Phones & Telecoms ': 4, 'Clothes, Footwear & Accessories ': 5, 'Other Goods ': 6, 'Health & Beauty ': 7, 'Sports, Leisure & Travel ': 8, 'Appliances ': 9, 'Computers & Software ': 10, 'Office Furniture & Equipment ': 11, 'Video Games & Consoles ': 12}\n",
      "                                     id  \\\n",
      "1  243809c0-9cfc-4486-ad12-3b7a16605ba9   \n",
      "2  1c58d3f9-8b93-47ea-9415-204fcc2a22e6   \n",
      "3  860673f1-57f6-47ba-8d2f-13f9e05b8f9a   \n",
      "4  59948726-29be-4b35-ade5-bb2fd7331856   \n",
      "5  16dbc860-696e-4cda-93f6-4dd4926573fb   \n",
      "\n",
      "                                        product_name  \\\n",
      "1  Mirror wall art | in Wokingham, Berkshire | Gu...   \n",
      "2  Stainless Steel Food Steamer | in Inverness, H...   \n",
      "3  Sun loungers | in Skegness, Lincolnshire | Gum...   \n",
      "4  Coffee side table from Ammunition ammo box hai...   \n",
      "5  Modern Shannon Sofa for sale at low cost | in ...   \n",
      "\n",
      "                                            category  \\\n",
      "1  Home & Garden / Dining, Living Room Furniture ...   \n",
      "2              Home & Garden / Other Household Goods   \n",
      "3  Home & Garden / Garden & Patio / Outdoor Setti...   \n",
      "4  Home & Garden / Dining, Living Room Furniture ...   \n",
      "5  Home & Garden / Dining, Living Room Furniture ...   \n",
      "\n",
      "                                 product_description  price  \\\n",
      "1  Mirror wall art. Posted by Nisha in Dining, Li...    5.0   \n",
      "2  Morphy Richard’s (model no 48755)Stainless ste...   20.0   \n",
      "3  I have 2 of these - collection only as I don’t...   20.0   \n",
      "4  Great reclaimed army ammunition box used as co...  115.0   \n",
      "5  New Design Shannon Corner sofa  5 Seater Avail...  450.0   \n",
      "\n",
      "                 location     page_id create_time  major_category  \\\n",
      "1    Wokingham, Berkshire  1426704584  2022-02-26  Home & Garden    \n",
      "2     Inverness, Highland  1426704579  2022-02-26  Home & Garden    \n",
      "3  Skegness, Lincolnshire  1426704576  2022-02-26  Home & Garden    \n",
      "4      Radstock, Somerset  1426704575  2022-02-26  Home & Garden    \n",
      "5       Delph, Manchester  1426704570  2022-02-26  Home & Garden    \n",
      "\n",
      "                    minor_category  major_category_encoded  \\\n",
      "1   Dining, Living Room Furniture                        0   \n",
      "2            Other Household Goods                       0   \n",
      "3                  Garden & Patio                        0   \n",
      "4   Dining, Living Room Furniture                        0   \n",
      "5   Dining, Living Room Furniture                        0   \n",
      "\n",
      "   minor_category_encoded  \n",
      "1                      22  \n",
      "2                      73  \n",
      "3                      39  \n",
      "4                      22  \n",
      "5                      22  \n",
      "Encoder {'Home & Garden ': 0, 'Baby & Kids Stuff ': 1, 'DIY Tools & Materials ': 2, 'Music, Films, Books & Games ': 3, 'Phones, Mobile Phones & Telecoms ': 4, 'Clothes, Footwear & Accessories ': 5, 'Other Goods ': 6, 'Health & Beauty ': 7, 'Sports, Leisure & Travel ': 8, 'Appliances ': 9, 'Computers & Software ': 10, 'Office Furniture & Equipment ': 11, 'Video Games & Consoles ': 12}\n"
     ]
    }
   ],
   "source": [
    "tab_class = CleanData(tab_names=['Products'])\n",
    "explanatory = 'major_category'\n",
    "df_comb = tab_class.expand_category()\n",
    "df_comb['price'] = df_comb['price'].astype(np.float32)\n",
    "df_comb = df_comb[df_comb['price'].astype(int) != 0]\n",
    "df_comb = df_comb.loc[:, ['price', explanatory]]\n",
    "df_comb = pd.get_dummies(df_comb, drop_first=True, prefix=None)\n",
    "df_comb.columns = df_comb.columns.str.removeprefix(f'{explanatory}_')\n"
   ]
  },
  {
   "cell_type": "code",
   "execution_count": 3,
   "metadata": {},
   "outputs": [
    {
     "data": {
      "text/plain": [
       "price                                0\n",
       "Baby & Kids Stuff                    0\n",
       "Clothes, Footwear & Accessories      0\n",
       "Computers & Software                 0\n",
       "DIY Tools & Materials                0\n",
       "Health & Beauty                      0\n",
       "Home & Garden                        0\n",
       "Music, Films, Books & Games          0\n",
       "Office Furniture & Equipment         0\n",
       "Other Goods                          0\n",
       "Phones, Mobile Phones & Telecoms     0\n",
       "Sports, Leisure & Travel             0\n",
       "Video Games & Consoles               0\n",
       "dtype: int64"
      ]
     },
     "execution_count": 3,
     "metadata": {},
     "output_type": "execute_result"
    }
   ],
   "source": [
    "df_comb[df_comb['price'] == 0].count()"
   ]
  },
  {
   "cell_type": "code",
   "execution_count": 6,
   "metadata": {},
   "outputs": [
    {
     "data": {
      "text/plain": [
       "Index(['price', 'Baby & Kids Stuff ', 'Clothes, Footwear & Accessories ',\n",
       "       'Computers & Software ', 'DIY Tools & Materials ', 'Health & Beauty ',\n",
       "       'Home & Garden ', 'Music, Films, Books & Games ',\n",
       "       'Office Furniture & Equipment ', 'Other Goods ',\n",
       "       'Phones, Mobile Phones & Telecoms ', 'Sports, Leisure & Travel ',\n",
       "       'Video Games & Consoles '],\n",
       "      dtype='object')"
      ]
     },
     "execution_count": 6,
     "metadata": {},
     "output_type": "execute_result"
    }
   ],
   "source": [
    "df_comb.columns"
   ]
  },
  {
   "cell_type": "code",
   "execution_count": 5,
   "metadata": {},
   "outputs": [
    {
     "name": "stdout",
     "output_type": "stream",
     "text": [
      "R-Squared of Regression model:  0.0034885593599468523\n",
      "Mean Squared Error of Training Sample:  20934052997.268883\n",
      "Mean Absolute Error of Training Sample:  5622.612642283437\n",
      "Mean Squared Error of Training Sample:  666222320.407611\n",
      "Mean Absolute Error of Training Sample:  3420.972867138972\n"
     ]
    }
   ],
   "source": [
    "df_comb.head()\n",
    "model = LinearRegression()\n",
    "X = df_comb.drop(['price'], axis=1)\n",
    "y = df_comb['price']\n",
    "X_train, X_test, y_train, y_test = train_test_split(X, y, test_size=0.3)\n",
    "model.fit(X_train, y_train)\n",
    "\n",
    "print('R-Squared of Regression model: ', model.score(X_train, y_train))\n",
    "print('Mean Squared Error of Training Sample: ', mean_squared_error(y_train, model.predict(X_train)))\n",
    "print('Mean Absolute Error of Training Sample: ', mean_absolute_error(y_train, model.predict(X_train)))\n",
    "print('Mean Squared Error of Training Sample: ', mean_squared_error(y_test, model.predict(X_test)))\n",
    "print('Mean Absolute Error of Training Sample: ', mean_absolute_error(y_test, model.predict(X_test)))"
   ]
  },
  {
   "cell_type": "code",
   "execution_count": 6,
   "metadata": {},
   "outputs": [
    {
     "name": "stdout",
     "output_type": "stream",
     "text": [
      "[ -233.0437974    -52.8287567    916.79269396  3170.84849241\n",
      "   224.46310299  -117.22842964  -199.89082951  1234.74400352\n",
      "   -82.30156247   -45.49090427 34770.03342575  -108.76701407]\n",
      "['Baby & Kids Stuff ' 'Clothes, Footwear & Accessories '\n",
      " 'Computers & Software ' 'DIY Tools & Materials ' 'Health & Beauty '\n",
      " 'Home & Garden ' 'Music, Films, Books & Games '\n",
      " 'Office Furniture & Equipment ' 'Other Goods '\n",
      " 'Phones, Mobile Phones & Telecoms ' 'Sports, Leisure & Travel '\n",
      " 'Video Games & Consoles ']\n"
     ]
    }
   ],
   "source": [
    "print(model.coef_)\n",
    "print(model.feature_names_in_)"
   ]
  },
  {
   "cell_type": "code",
   "execution_count": null,
   "metadata": {},
   "outputs": [],
   "source": []
  }
 ],
 "metadata": {
  "interpreter": {
   "hash": "0ca6e4f64349b37e43d103d34f8b7f64a464de9243649aae08dfeb58b2445472"
  },
  "kernelspec": {
   "display_name": "Python 3.9.7 ('scaper_env')",
   "language": "python",
   "name": "python3"
  },
  "language_info": {
   "codemirror_mode": {
    "name": "ipython",
    "version": 3
   },
   "file_extension": ".py",
   "mimetype": "text/x-python",
   "name": "python",
   "nbconvert_exporter": "python",
   "pygments_lexer": "ipython3",
   "version": "3.9.7"
  },
  "orig_nbformat": 4
 },
 "nbformat": 4,
 "nbformat_minor": 2
}
