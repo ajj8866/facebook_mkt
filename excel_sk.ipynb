{
 "cells": [
  {
   "cell_type": "code",
   "execution_count": 2,
   "metadata": {},
   "outputs": [],
   "source": [
    "import pandas as pd\n",
    "from skimage import io\n",
    "from PIL import Image\n",
    "from skimage import img_as_float\n",
    "from skimage.transform import rescale, resize\n",
    "import numpy as np"
   ]
  },
  {
   "cell_type": "code",
   "execution_count": 9,
   "metadata": {},
   "outputs": [
    {
     "data": {
      "text/plain": [
       "0        [[[0. 0. 0.]\\n  [0. 0. 0.]\\n  [0. 0. 0.]\\n  .....\n",
       "1        [[[1. 1. 1.]\\n  [1. 1. 1.]\\n  [1. 1. 1.]\\n  .....\n",
       "2        [[[0. 0. 0.]\\n  [0. 0. 0.]\\n  [0. 0. 0.]\\n  .....\n",
       "3        [[[0. 0. 0.]\\n  [0. 0. 0.]\\n  [0. 0. 0.]\\n  .....\n",
       "4        [[[0.         0.         0.        ]\\n  [0.   ...\n",
       "                               ...                        \n",
       "12419    [[[0. 0. 0.]\\n  [0. 0. 0.]\\n  [0. 0. 0.]\\n  .....\n",
       "12420    [[[0. 0. 0.]\\n  [0. 0. 0.]\\n  [0. 0. 0.]\\n  .....\n",
       "12421    [[[0. 0. 0.]\\n  [0. 0. 0.]\\n  [0. 0. 0.]\\n  .....\n",
       "12422    [[[0. 0. 0.]\\n  [0. 0. 0.]\\n  [0. 0. 0.]\\n  .....\n",
       "12423    [[[0. 0. 0.]\\n  [0. 0. 0.]\\n  [0. 0. 0.]\\n  .....\n",
       "Name: image_array, Length: 12424, dtype: object"
      ]
     },
     "execution_count": 9,
     "metadata": {},
     "output_type": "execute_result"
    }
   ],
   "source": [
    "sk_col_df = pd.read_excel('sketch_df.xlsx')\n",
    "sk_col_df.head()\n",
    "#sk_col_df.loc[:, 'image_shape'] = sk_col_df['image_array'].map(lambda i: i.shape)\n",
    "sk_col_df.image_array\n"
   ]
  },
  {
   "cell_type": "code",
   "execution_count": 12,
   "metadata": {},
   "outputs": [
    {
     "name": "stdout",
     "output_type": "stream",
     "text": [
      "object\n"
     ]
    }
   ],
   "source": [
    "sk_gray_df = pd.read_excel('sketch_df_greyscale.xlsx')\n",
    "print(sk_gray_df['image_array'].map(np.array).dtype)"
   ]
  },
  {
   "cell_type": "code",
   "execution_count": null,
   "metadata": {},
   "outputs": [],
   "source": []
  }
 ],
 "metadata": {
  "interpreter": {
   "hash": "0ca6e4f64349b37e43d103d34f8b7f64a464de9243649aae08dfeb58b2445472"
  },
  "kernelspec": {
   "display_name": "Python 3.9.7 ('scaper_env')",
   "language": "python",
   "name": "python3"
  },
  "language_info": {
   "codemirror_mode": {
    "name": "ipython",
    "version": 3
   },
   "file_extension": ".py",
   "mimetype": "text/x-python",
   "name": "python",
   "nbconvert_exporter": "python",
   "pygments_lexer": "ipython3",
   "version": "3.9.7"
  },
  "orig_nbformat": 4
 },
 "nbformat": 4,
 "nbformat_minor": 2
}
